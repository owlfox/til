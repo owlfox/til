{
 "cells": [
  {
   "cell_type": "markdown",
   "metadata": {},
   "source": [
    "# Python Sorted Collections\n",
    "This is the jupyter notebook for practicing some python list concepts:).\n",
    "This original article is from [here](https://pythontips.com/2016/04/24/python-sorted-collections/), thanks for [Grant Jenks](http://www.grantjenks.com/blog/) for sharing this.\n",
    "* [github repo](https://github.com/grantjenks/sorted_containers/)"
   ]
  },
  {
   "cell_type": "markdown",
   "metadata": {},
   "source": [
    "## collections.OrderedDict"
   ]
  },
  {
   "cell_type": "code",
   "execution_count": 5,
   "metadata": {
    "collapsed": false
   },
   "outputs": [
    {
     "name": "stdout",
     "output_type": "stream",
     "text": [
      "OrderedDict([('a', 0), ('b', 1), ('c', 2), ('d', 3)])\n",
      "['a', 'b', 'c', 'd']\n",
      "['a', 'b', 'c', 'd', 'e']\n"
     ]
    }
   ],
   "source": [
    "from collections import OrderedDict\n",
    "letters = [('a', 0), ('b', 1), ('c', 2), ('d', 3)]\n",
    "values = OrderedDict(letters)\n",
    "print(values)\n",
    "print(list(values.keys()))\n",
    "values['e'] = 4\n",
    "print(list(values.keys()))"
   ]
  },
  {
   "cell_type": "code",
   "execution_count": 6,
   "metadata": {
    "collapsed": false
   },
   "outputs": [
    {
     "name": "stdout",
     "output_type": "stream",
     "text": [
      "[('a', 0), ('b', 1), ('c', 2), ('d', 3)]\n",
      "[('a', 0), ('b', 1), ('c', 2), ('d', 3), ('e', 4)]\n"
     ]
    }
   ],
   "source": [
    "somelist = [('a', 0), ('b', 1), ('c', 2), ('d', 3)]\n",
    "print(somelist)\n",
    "somelist.append(('e',4))\n",
    "print(somelist)"
   ]
  },
  {
   "cell_type": "code",
   "execution_count": 9,
   "metadata": {
    "collapsed": false
   },
   "outputs": [
    {
     "ename": "ImportError",
     "evalue": "No module named 'sortedcontainers'",
     "output_type": "error",
     "traceback": [
      "\u001b[0;31m---------------------------------------------------------------------------\u001b[0m",
      "\u001b[0;31mImportError\u001b[0m                               Traceback (most recent call last)",
      "\u001b[0;32m<ipython-input-9-7d6c91859af7>\u001b[0m in \u001b[0;36m<module>\u001b[0;34m()\u001b[0m\n\u001b[0;32m----> 1\u001b[0;31m \u001b[0;32mfrom\u001b[0m \u001b[0msortedcontainers\u001b[0m \u001b[0;32mimport\u001b[0m \u001b[0mSortedList\u001b[0m\u001b[0;34m,\u001b[0m \u001b[0mSortedDict\u001b[0m\u001b[0;34m,\u001b[0m \u001b[0mSortedSet\u001b[0m\u001b[0;34m\u001b[0m\u001b[0m\n\u001b[0m",
      "\u001b[0;31mImportError\u001b[0m: No module named 'sortedcontainers'"
     ]
    }
   ],
   "source": [
    "# test if nbviewer can find this package\n",
    "from sortedcontainers import SortedList, SortedDict, SortedSet\n"
   ]
  },
  {
   "cell_type": "markdown",
   "metadata": {},
   "source": []
  }
 ],
 "metadata": {
  "kernelspec": {
   "display_name": "Python 3",
   "language": "python",
   "name": "python3"
  },
  "language_info": {
   "codemirror_mode": {
    "name": "ipython",
    "version": 3
   },
   "file_extension": ".py",
   "mimetype": "text/x-python",
   "name": "python",
   "nbconvert_exporter": "python",
   "pygments_lexer": "ipython3",
   "version": "3.5.1"
  }
 },
 "nbformat": 4,
 "nbformat_minor": 0
}
