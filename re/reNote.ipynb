{
 "cells": [
  {
   "cell_type": "markdown",
   "metadata": {},
   "source": [
    "# 正規表達式筆記\n",
    "[Source](https://developers.google.com/edu/python/regular-expressions)\n",
    "1. re 模組包含正規表達式工具, 字串比較/搜尋\n",
    "2. re.search(pat, str) 方法可以用re pattern搜尋傳入字串, 如果找到回傳match物件, 沒有則回傳None\n"
   ]
  },
  {
   "cell_type": "code",
   "execution_count": 4,
   "metadata": {
    "collapsed": false
   },
   "outputs": [
    {
     "name": "stdout",
     "output_type": "stream",
     "text": [
      "found word:cat\n"
     ]
    }
   ],
   "source": [
    "import re\n",
    "str = 'an example word:ggcat!!'\n",
    "match = re.search(r'word:\\w\\w\\w', str)\n",
    "# If-statement after search() tests if it succeeded\n",
    "if match:\n",
    "    print('found', match.group()) ## 'found word:cat'\n",
    "else:\n",
    "    print('沒找到')"
   ]
  },
  {
   "cell_type": "markdown",
   "metadata": {},
   "source": [
    "'r'這個字表示正規表達式裡面的pattern是python \"raw\" string, '\\' backslash不會被改變@__@?\n",
    "\n",
    "1. a, X, 9, 一般的character, 文字, 注意有些特殊字元meta-character如 `^ $ * + ? { [] \\ | ()`不會被拿來做比對\n",
    "2. `.` (period) 除了newline換行`\\n`任何字元的任何字\n",
    "3. `\\w' word, a letter or digit or underbar [a-zA-Z0-9_].\n",
    "    \\W (upper case W) matches any non-word character.\n",
    "4. `\\b` 字與非字的邊界\n",
    "5. `\\s` space, newline, return, tab, form (' '\\n\\r\\t\\f)\n",
    "6. `\\t, \\n, \\r` tab, newline, return\n",
    "7. `\\d` 十進制字元\n",
    "7. `^`, start; `$`, end\n",
    "8. `\\` 特殊字元 `\\.` for '.'"
   ]
  },
  {
   "cell_type": "markdown",
   "metadata": {},
   "source": [
    "1. `+`\n",
    "2. `*`\n",
    "3. `?`"
   ]
  }
 ],
 "metadata": {
  "anaconda-cloud": {},
  "kernelspec": {
   "display_name": "Python [Root]",
   "language": "python",
   "name": "Python [Root]"
  },
  "language_info": {
   "codemirror_mode": {
    "name": "ipython",
    "version": 3
   },
   "file_extension": ".py",
   "mimetype": "text/x-python",
   "name": "python",
   "nbconvert_exporter": "python",
   "pygments_lexer": "ipython3",
   "version": "3.5.2"
  }
 },
 "nbformat": 4,
 "nbformat_minor": 0
}
